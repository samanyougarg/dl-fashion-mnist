{
  "cells": [
    {
      "metadata": {
        "_uuid": "b495103e82b39c327f071ee6181efde54235c509",
        "_cell_guid": "9315d302-f20d-4961-8f0b-9e85856b3d52"
      },
      "cell_type": "markdown",
      "source": "# Using CNNs for MNIST Handwritten Digit Recognition"
    },
    {
      "metadata": {
        "_uuid": "e83be9fa3969bd5237327bf00762a2ef4358d87d",
        "_cell_guid": "680c4bc7-b443-4b22-b1a5-39486f3405a5"
      },
      "cell_type": "markdown",
      "source": "## Imports"
    },
    {
      "metadata": {
        "collapsed": true,
        "_uuid": "8f2839f25d086af736a60e9eeb907d3b93b6e0e5",
        "_cell_guid": "b1076dfc-b9ad-4769-8c92-a6c4dae69d19",
        "trusted": true
      },
      "cell_type": "code",
      "source": "# data analysis\nimport pandas as pd\n# for linear algebra\nimport numpy as np\n# plotting library\nimport matplotlib.pyplot as plt\n%matplotlib inline\n# Split the training data into train and validation sets\nfrom sklearn.model_selection import train_test_split\n# Evaluate our model\nfrom sklearn.metrics import confusion_matrix",
      "execution_count": 22,
      "outputs": []
    },
    {
      "metadata": {
        "_uuid": "d629ff2d2480ee46fbb7e2d37f6b5fab8052498a",
        "_cell_guid": "79c7e3d0-c299-4dcb-8224-4455121ee9b0",
        "trusted": true
      },
      "cell_type": "code",
      "source": "from keras.utils.np_utils import to_categorical\nfrom keras.models import Sequential\nfrom keras.layers import Dense, Dropout, Flatten, Conv2D, MaxPool2D, BatchNormalization\nfrom keras.optimizers import Adam\nfrom keras.preprocessing.image import ImageDataGenerator\nfrom keras.callbacks import LearningRateScheduler\nfrom sklearn.metrics import accuracy_score",
      "execution_count": 44,
      "outputs": []
    },
    {
      "metadata": {
        "collapsed": true,
        "_uuid": "544785484191323eff4a3b60c41f658893f04894",
        "_cell_guid": "b39835e5-f400-465f-916f-d958e2fd8cba",
        "trusted": true
      },
      "cell_type": "code",
      "source": "PATH = \"../input/\"\ntrain_file = f'{PATH}fashion-mnist_train.csv'\ntest_file = f'{PATH}fashion-mnist_test.csv'\noutput_file = \"submission.csv\"",
      "execution_count": 24,
      "outputs": []
    },
    {
      "metadata": {
        "_uuid": "97bc05c8ec36f3e70e1364e8996efc4d62832e5c",
        "_cell_guid": "2312535a-f06d-4227-865e-fba837752eec"
      },
      "cell_type": "markdown",
      "source": "## Load Data"
    },
    {
      "metadata": {
        "_uuid": "34dc3262d57ced8c9e93d6f5ecc15ee433fd2b13",
        "collapsed": true,
        "_cell_guid": "5a25b534-377e-4cde-a981-d70c60b560ea",
        "trusted": true
      },
      "cell_type": "code",
      "source": "# Load the csv file using numpy\ndata = np.loadtxt(train_file, skiprows=1, dtype='int', delimiter=',')\n# Split training data into train and valid sets\n# First argument takes all the rows and all the columns after the first\n# column(labels) and second argument takes the labels (i.e first column)\nx_train, x_val, y_train, y_val = train_test_split(\n    data[:,1:], data[:,0], test_size=0.1)",
      "execution_count": 25,
      "outputs": []
    },
    {
      "metadata": {
        "_uuid": "4aee8d4375bd35c2d3e9bae881d460a06a6c3d0c",
        "_cell_guid": "224eaa61-e337-48a5-b7fa-b7b3cc12a9ba"
      },
      "cell_type": "markdown",
      "source": "We need to reshape the data for Keras. Since, these images are not RGB, we only have one channel at the end."
    },
    {
      "metadata": {
        "_uuid": "79ba5d9b552256ac1a35605ad4fd629421c251db",
        "collapsed": true,
        "_cell_guid": "ef86a47b-51c2-460e-8f1e-addf27684314",
        "trusted": true
      },
      "cell_type": "code",
      "source": "x_train = x_train.reshape(-1, 28, 28, 1)\nx_val = x_val.reshape(-1, 28, 28, 1)",
      "execution_count": 26,
      "outputs": []
    },
    {
      "metadata": {
        "_uuid": "a3b8f6ad1c5d557ef8ffd23f1f70025228f748a3",
        "_cell_guid": "f961596b-9142-4432-9064-607826edc1c3"
      },
      "cell_type": "markdown",
      "source": "Each of the images in the train and valid sets have pixel values between 0 and 255. We divide these by 255 to make all the values between 0 and 1."
    },
    {
      "metadata": {
        "collapsed": true,
        "_uuid": "a514e26159fe39d946a9f1a2ecce2eb96e5f71f6",
        "_cell_guid": "ff5d709c-4582-4ffc-b5ee-b06c8d0d623e",
        "trusted": true
      },
      "cell_type": "code",
      "source": "x_train = x_train.astype(\"float32\")/255.\nx_val = x_val.astype(\"float32\")/255.",
      "execution_count": 27,
      "outputs": []
    },
    {
      "metadata": {
        "_uuid": "261afb1793ce0955183f35f5370550725969d759",
        "_cell_guid": "98472cb2-6aa1-4224-b6bb-da8ebed9712c"
      },
      "cell_type": "markdown",
      "source": "We use One-hot encoding to convert the label values(orginally, between 0-9) to a 10x1 array where each label will have one \"1\" and nine \"0\"s where \"1\" tells us the value of the label. "
    },
    {
      "metadata": {
        "_uuid": "11d1606926b235ab9b30e6cec17a37ba7731a30c",
        "_cell_guid": "617cbb2b-1b41-4e60-b6d6-692792d034d1",
        "trusted": true
      },
      "cell_type": "code",
      "source": "y_train = to_categorical(y_train)\ny_val = to_categorical(y_val)\n#example:\nprint(y_train[0])",
      "execution_count": 28,
      "outputs": [
        {
          "output_type": "stream",
          "text": "[0. 0. 0. 0. 0. 0. 1. 0. 0. 0.]\n",
          "name": "stdout"
        }
      ]
    },
    {
      "metadata": {
        "_uuid": "714632f25b605e3b039e6f3ec3244278e7ea04f7",
        "_cell_guid": "0b7ef5a0-4304-400f-ba6a-b41dd2f4e54c"
      },
      "cell_type": "markdown",
      "source": "## Model"
    },
    {
      "metadata": {
        "collapsed": true,
        "_uuid": "e43a756717feb09a8e5b92d74da48220f9dc3574",
        "_cell_guid": "52b35865-0904-400d-b217-9ae980888662",
        "trusted": true
      },
      "cell_type": "code",
      "source": "model = Sequential()\n\n# Convolution layer with input image shape (28x28x1), relu activation, \n# kernel size of 3x3 and output image of size 16x16.\nmodel.add(Conv2D(filters = 32, kernel_size = (3, 3), activation='relu',\n                 input_shape = (28, 28, 1)))\n# Batch Normalization\nmodel.add(BatchNormalization())\nmodel.add(Conv2D(filters = 32, kernel_size = (3, 3), activation='relu'))\nmodel.add(BatchNormalization())\nmodel.add(MaxPool2D(strides=(2,2)))\n# Drop 1/4th of the activations\nmodel.add(Dropout(0.25))\n\nmodel.add(Conv2D(filters = 64, kernel_size = (3, 3), activation='relu'))\nmodel.add(BatchNormalization())\nmodel.add(Conv2D(filters = 64, kernel_size = (3, 3), activation='relu'))\nmodel.add(BatchNormalization())\nmodel.add(MaxPool2D(strides=(2,2)))\nmodel.add(Dropout(0.25))\n\nmodel.add(Flatten())\n# Dense(Fully Connected Layer) with output image of size 512x512\nmodel.add(Dense(512, activation='relu'))\nmodel.add(Dropout(0.25))\nmodel.add(Dense(1024, activation='relu'))\nmodel.add(Dropout(0.5))\n# We use softmax because we have more than 2 output classes\nmodel.add(Dense(10, activation='softmax'))",
      "execution_count": 72,
      "outputs": []
    },
    {
      "metadata": {
        "_uuid": "9ab970d6e5cc4a87414643a0aeeba0de81f50b91",
        "_cell_guid": "f3ffbe09-a895-445f-9bba-e73a61b7ae41"
      },
      "cell_type": "markdown",
      "source": "## Data Augmentation"
    },
    {
      "metadata": {
        "collapsed": true,
        "_uuid": "859ba2208de7b166cba6dcc2f8ba812c7afda12e",
        "_cell_guid": "20a52e71-ec65-4864-a791-df055a6706fb",
        "trusted": true
      },
      "cell_type": "code",
      "source": "datagen = ImageDataGenerator(zoom_range = 0.1,\n                            height_shift_range = 0.1,\n                            width_shift_range = 0.1,\n                            rotation_range = 10)",
      "execution_count": 73,
      "outputs": []
    },
    {
      "metadata": {
        "_uuid": "3cb50f798b68649c11298e7cc924f968e4b1802a",
        "collapsed": true,
        "_cell_guid": "c0502dc9-3b94-4d97-96fa-2c0c729ec9e7",
        "trusted": true
      },
      "cell_type": "code",
      "source": "model.compile(loss='categorical_crossentropy', optimizer = Adam(lr=1e-3), metrics=[\"accuracy\"])",
      "execution_count": 74,
      "outputs": []
    },
    {
      "metadata": {
        "_uuid": "fc6aaa2ffa4346843c28e764f7f34d0742305a0a",
        "_cell_guid": "792163e5-88f8-4934-9c03-152ae58cec53"
      },
      "cell_type": "markdown",
      "source": "We train once with a smaller learning rate to ensure convergence. We then speed things up, only to reduce the learning rate by 10% every epoch."
    },
    {
      "metadata": {
        "collapsed": true,
        "_uuid": "633c43916771ee35b5e12338c83810ee9f5b38a1",
        "_cell_guid": "7ee31b1f-faa3-40a2-8b76-d9a2759504bd",
        "trusted": true
      },
      "cell_type": "code",
      "source": "annealer = LearningRateScheduler(lambda x: 1e-3 * 0.9 ** x)",
      "execution_count": 75,
      "outputs": []
    },
    {
      "metadata": {
        "_uuid": "c81a5b59645b80e3c3fa36c0b172dc636f38762c",
        "_cell_guid": "2b2243ac-9832-4abc-97d4-3c4e86818cad",
        "trusted": true
      },
      "cell_type": "code",
      "source": "hist = model.fit_generator(datagen.flow(x_train, y_train, batch_size=128),\n                           steps_per_epoch=500,\n                           epochs=20,\n                           verbose=2,\n                           validation_data=(x_val, y_val),\n                           callbacks=[annealer])",
      "execution_count": 78,
      "outputs": [
        {
          "output_type": "stream",
          "text": "Epoch 1/20\n - 21s - loss: 0.3488 - acc: 0.8735 - val_loss: 0.2710 - val_acc: 0.8965\nEpoch 2/20\n - 21s - loss: 0.3130 - acc: 0.8873 - val_loss: 0.2416 - val_acc: 0.9112\nEpoch 3/20\n - 21s - loss: 0.2978 - acc: 0.8924 - val_loss: 0.2470 - val_acc: 0.9040\nEpoch 4/20\n - 20s - loss: 0.2814 - acc: 0.8984 - val_loss: 0.2226 - val_acc: 0.9118\nEpoch 5/20\n - 21s - loss: 0.2738 - acc: 0.9001 - val_loss: 0.2180 - val_acc: 0.9202\nEpoch 6/20\n - 21s - loss: 0.2625 - acc: 0.9038 - val_loss: 0.1988 - val_acc: 0.9268\nEpoch 7/20\n - 21s - loss: 0.2501 - acc: 0.9088 - val_loss: 0.1924 - val_acc: 0.9275\nEpoch 8/20\n - 22s - loss: 0.2502 - acc: 0.9077 - val_loss: 0.2000 - val_acc: 0.9245\nEpoch 9/20\n - 21s - loss: 0.2409 - acc: 0.9115 - val_loss: 0.2007 - val_acc: 0.9238\nEpoch 10/20\n - 22s - loss: 0.2376 - acc: 0.9121 - val_loss: 0.1878 - val_acc: 0.9330\nEpoch 11/20\n - 21s - loss: 0.2303 - acc: 0.9160 - val_loss: 0.1886 - val_acc: 0.9330\nEpoch 12/20\n - 21s - loss: 0.2234 - acc: 0.9178 - val_loss: 0.1876 - val_acc: 0.9283\nEpoch 13/20\n - 21s - loss: 0.2229 - acc: 0.9170 - val_loss: 0.1946 - val_acc: 0.9292\nEpoch 14/20\n - 21s - loss: 0.2166 - acc: 0.9204 - val_loss: 0.1888 - val_acc: 0.9295\nEpoch 15/20\n - 22s - loss: 0.2167 - acc: 0.9190 - val_loss: 0.1802 - val_acc: 0.9322\nEpoch 16/20\n - 21s - loss: 0.2089 - acc: 0.9217 - val_loss: 0.1793 - val_acc: 0.9347\nEpoch 17/20\n - 21s - loss: 0.2068 - acc: 0.9232 - val_loss: 0.1910 - val_acc: 0.9287\nEpoch 18/20\n - 22s - loss: 0.2040 - acc: 0.9235 - val_loss: 0.1760 - val_acc: 0.9337\nEpoch 19/20\n - 21s - loss: 0.2077 - acc: 0.9231 - val_loss: 0.1821 - val_acc: 0.9290\nEpoch 20/20\n - 22s - loss: 0.1992 - acc: 0.9260 - val_loss: 0.1778 - val_acc: 0.9333\n",
          "name": "stdout"
        }
      ]
    },
    {
      "metadata": {
        "_uuid": "d71feb5244e7bea85a107ee152ca237bf8492e5d",
        "_cell_guid": "a23850e6-b7c3-4deb-a889-c3735a6be655"
      },
      "cell_type": "markdown",
      "source": "## Evaluate"
    },
    {
      "metadata": {
        "_uuid": "349b8c6287e430d7492659a717177c21e4811b95",
        "_cell_guid": "8d9060e6-b97c-4d1e-a9ce-8ea4dc62e023",
        "trusted": true
      },
      "cell_type": "code",
      "source": "final_loss, final_acc = model.evaluate(x_val, y_val, verbose=0)\nprint(\"Final loss: {0:.4f}, final accuracy: {1:.4f}\".format(final_loss, final_acc))",
      "execution_count": 79,
      "outputs": [
        {
          "output_type": "stream",
          "text": "Final loss: 0.1778, final accuracy: 0.9333\n",
          "name": "stdout"
        }
      ]
    },
    {
      "metadata": {
        "_uuid": "53ecf2eec331c8207a8e3107c46816c9b9221c51",
        "_cell_guid": "fd736557-d8ee-4554-902d-c6b5240e1454",
        "trusted": true
      },
      "cell_type": "code",
      "source": "plt.plot(hist.history['loss'], color='b')\nplt.plot(hist.history['val_loss'], color='r')\nplt.show()\nplt.plot(hist.history['acc'], color='b')\nplt.plot(hist.history['val_acc'], color='r')\nplt.show()",
      "execution_count": 80,
      "outputs": [
        {
          "output_type": "display_data",
          "data": {
            "text/plain": "<matplotlib.figure.Figure at 0x7f915e829e10>",
            "image/png": "[encoded data removed]"
          },
          "metadata": {}
        },
        {
          "output_type": "display_data",
          "data": {
            "text/plain": "<matplotlib.figure.Figure at 0x7f91633d7cc0>",
            "image/png": "[encoded data removed]"
          },
          "metadata": {}
        }
      ]
    },
    {
      "metadata": {
        "trusted": true,
        "_uuid": "2cb8c201b74d31d0840ec5594a10ee0a86b3aea3"
      },
      "cell_type": "code",
      "source": "y_hat = model.predict(x_val)\ny_pred = np.argmax(y_hat, axis=1)\ny_true = np.argmax(y_val, axis=1)\ncm = confusion_matrix(y_true, y_pred)\nprint(cm)",
      "execution_count": 81,
      "outputs": [
        {
          "output_type": "stream",
          "text": "[[515   0   8   8   2   0  74   0   3   0]\n [  1 591   0   4   0   0   3   0   0   0]\n [  4   0 529   7  30   0  40   0   0   0]\n [  8   1   2 562   7   0  18   0   0   0]\n [  0   0   8  19 570   0  16   0   1   0]\n [  0   0   0   0   0 584   0   2   0   0]\n [ 34   0  18   9  29   0 501   0   2   0]\n [  0   0   0   0   0   4   0 598   0  13]\n [  0   0   0   1   0   0   1   0 588   0]\n [  0   0   0   0   0   7   0  16   0 562]]\n",
          "name": "stdout"
        }
      ]
    },
    {
      "metadata": {
        "trusted": true,
        "_uuid": "db5a778827014b0780b46f77b08b3d55018dffc1"
      },
      "cell_type": "code",
      "source": "mnist_testset = np.loadtxt(test_file, skiprows=1, dtype='int', delimiter=',')\nx_test, y_test = mnist_testset[:,1:], mnist_testset[:,0]\nx_test = x_test.astype(\"float32\")\nx_test = x_test.reshape(-1, 28, 28, 1)/255.",
      "execution_count": 82,
      "outputs": []
    },
    {
      "metadata": {
        "trusted": true,
        "collapsed": true,
        "_uuid": "ebdcfbe7b4ba6adeedcf674859f757503185fff0"
      },
      "cell_type": "code",
      "source": "y_hat = model.predict(x_test, batch_size=64)",
      "execution_count": 83,
      "outputs": []
    },
    {
      "metadata": {
        "trusted": true,
        "collapsed": true,
        "_uuid": "be439119055042736f48fa497bf0e3deeaed29dd"
      },
      "cell_type": "code",
      "source": "y_pred = np.argmax(y_hat,axis=1)",
      "execution_count": 84,
      "outputs": []
    },
    {
      "metadata": {
        "trusted": true,
        "_uuid": "276709c7e86524dd27b376910eb51c4b09c72910"
      },
      "cell_type": "code",
      "source": "accuracy_score(y_test, y_pred)",
      "execution_count": 85,
      "outputs": [
        {
          "output_type": "execute_result",
          "execution_count": 85,
          "data": {
            "text/plain": "0.9373"
          },
          "metadata": {}
        }
      ]
    }
  ],
  "metadata": {
    "kernelspec": {
      "display_name": "Python 3",
      "language": "python",
      "name": "python3"
    },
    "language_info": {
      "name": "python",
      "version": "3.6.4",
      "mimetype": "text/x-python",
      "codemirror_mode": {
        "name": "ipython",
        "version": 3
      },
      "pygments_lexer": "ipython3",
      "nbconvert_exporter": "python",
      "file_extension": ".py"
    }
  },
  "nbformat": 4,
  "nbformat_minor": 1
}